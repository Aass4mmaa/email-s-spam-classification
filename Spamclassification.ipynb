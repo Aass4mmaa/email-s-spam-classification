{
 "cells": [
  {
   "cell_type": "code",
   "execution_count": 24,
   "id": "60dbe86f",
   "metadata": {},
   "outputs": [],
   "source": [
    "import os\n",
    "import re\n",
    "from nltk.stem import WordNetLemmatizer \n",
    "from string import punctuation\n",
    "from collections import Counter\n",
    "import pandas as pd\n",
    "import numpy as np\n",
    "from sklearn.model_selection import train_test_split\n",
    "from sklearn.linear_model import LogisticRegression\n",
    "from sklearn import svm\n",
    "from sklearn.neural_network import MLPClassifier\n",
    "import seaborn as sns\n",
    "import matplotlib.pyplot as plt\n",
    "from sklearn.metrics import plot_confusion_matrix,f1_score,r2_score\n",
    "from sklearn.preprocessing import "
   ]
  },
  {
   "cell_type": "markdown",
   "id": "8b3145fd",
   "metadata": {},
   "source": [
    "###  Getting the email"
   ]
  },
  {
   "cell_type": "code",
   "execution_count": 4,
   "id": "6634bb7b",
   "metadata": {},
   "outputs": [],
   "source": [
    "listofspam=[]#list ou on va mettre tous les spam\n",
    "listofham=[]#list ou on va mettre tous les non spam\n",
    "spam=os.listdir(\"D:\\S2I M1\\S2\\AARN\\projet\\DATA\\DATA\\spam\")#list of entries in the file\n",
    "\n",
    "for i in spam :\n",
    "        try :\n",
    "            f=open(os.path.join(\"D:\\S2I M1\\S2\\AARN\\projet\\DATA\\DATA\\spam/\",i),'r', encoding='utf-8')#join pathq\n",
    "            content=f.read()\n",
    "        except UnicodeDecodeError:#if the file is code with other than utf-8\n",
    "            open(os.path.join(\"D:\\S2I M1\\S2\\AARN\\projet\\DATA\\DATA\\spam/\", i), \"r\", encoding=\"latin-1\")\n",
    "            content = f.read()\n",
    "            open(os.path.join(\"D:\\S2I M1\\S2\\AARN\\projet\\DATA\\DATA\\spam/\", i), \"w\", encoding=\"utf-8\")\n",
    "            f.write(content)\n",
    "        listofspam.append(content)\n",
    "ham=os.listdir(\"D:\\S2I M1\\S2\\AARN\\projet\\DATA\\DATA\\ham\")\n",
    "for i in ham:\n",
    "    try :\n",
    "        f=open(os.path.join(\"D:\\S2I M1\\S2\\AARN\\projet\\DATA\\DATA\\ham/\",i),'r', encoding='utf-8')\n",
    "        content=f.read()\n",
    "    except UnicodeDecodeError:\n",
    "        open(os.path.join(\"D:\\S2I M1\\S2\\AARN\\projet\\DATA\\DATA\\ham/\", i), \"r\", encoding=\"latin-1\")\n",
    "        content = f.read()\n",
    "        open(os.path.join(\"D:\\S2I M1\\S2\\AARN\\projet\\DATA\\DATA\\ham/\", i), \"w\", encoding=\"utf-8\")\n",
    "        f.write(content)\n",
    "    listofham.append(content)"
   ]
  },
  {
   "cell_type": "markdown",
   "id": "af16ffe9",
   "metadata": {},
   "source": [
    "### Preparation of data"
   ]
  },
  {
   "cell_type": "code",
   "execution_count": 6,
   "id": "b21783e3",
   "metadata": {},
   "outputs": [],
   "source": [
    "lemmatizer = WordNetLemmatizer() \n",
    "def datapreparation(k):\n",
    "    k=k.lower()#lower case\n",
    "    k=re.sub(\"<.*?>\",\"\",k)#dropping balise html\n",
    "    k=k.replace('$','dollar')#normalizing $\n",
    "    k=re.sub('[1-9]+','nombre',k)#normalizing numbers\n",
    "    k=re.sub('(http|https)://[^\\s]+','httpaddr',k)#normalizing url\n",
    "    k=re.sub('[^\\s]+@[^\\s]+', 'emailaddr',k)#normalizing mail\n",
    "    k=k.translate(str.maketrans('', '', punctuation)) #dropping punctuations\n",
    "    k= re.sub(\"\\n\",\" \",k)#dropping line breaks\n",
    "    #lemmatization\n",
    "    for w in k:\n",
    "        if w.isalpha():\n",
    "            w=lemmatizer.lemmatize(w)\n",
    "    k=re.sub(r'\\W+',' ',k)#dropping space and other caracters\n",
    "    \n",
    "    \n",
    "    return k"
   ]
  },
  {
   "cell_type": "code",
   "execution_count": 9,
   "id": "611b0f9e",
   "metadata": {},
   "outputs": [],
   "source": [
    "for i in range(len(listofspam)):\n",
    "    listofspam[i]=datapreparation(listofspam[i])\n",
    "for i in range(len(listofham)):\n",
    "    listofham[i]=datapreparation(listofham[i])\n",
    "#print(listofspam[0]) #to see an example \n",
    "#type(listofspam[0]) is str"
   ]
  },
  {
   "cell_type": "markdown",
   "id": "87a61bdf",
   "metadata": {},
   "source": [
    "### Construction du vocabulaire"
   ]
  },
  {
   "cell_type": "code",
   "execution_count": 10,
   "id": "6e324825",
   "metadata": {},
   "outputs": [],
   "source": [
    "#constructing a list of 10000 most common words in listofspam to work with\n",
    "def vocabulaire(l):\n",
    "    letter=Counter()\n",
    "    mat=[]\n",
    "    for i in range(len(l)):\n",
    "        mat=l[i].split()\n",
    "        letter.update(mat)\n",
    "    letter=sorted(letter, key=letter.get, reverse=True)\n",
    "    letter=letter[:10000]\n",
    "    #letter=Counter(l[0]).most_common(10000)\n",
    "    fichier=open('vocab.txt','w',encoding=\"utf-8\")\n",
    "    for i in letter:\n",
    "        fichier.writelines(i)\n",
    "        fichier.writelines(\"\\n\")\n",
    "    fichier.close()\n",
    "    return letter"
   ]
  },
  {
   "cell_type": "code",
   "execution_count": 11,
   "id": "3f0f3258",
   "metadata": {},
   "outputs": [],
   "source": [
    "voclist=vocabulaire(listofspam)"
   ]
  },
  {
   "cell_type": "markdown",
   "id": "2055096c",
   "metadata": {},
   "source": [
    "### Preparing our dataFrame"
   ]
  },
  {
   "cell_type": "code",
   "execution_count": 12,
   "id": "98fc957c",
   "metadata": {},
   "outputs": [],
   "source": [
    "df1=pd.DataFrame(listofspam,columns=['email'])\n",
    "df1['state']=1\n",
    "df2=pd.DataFrame(listofham,columns=['email'])\n",
    "df2['state']=0"
   ]
  },
  {
   "cell_type": "code",
   "execution_count": 13,
   "id": "5606eae3",
   "metadata": {},
   "outputs": [],
   "source": [
    "df=pd.concat([df2,df1])\n",
    "df=df.sample(frac=1,random_state=123).reset_index(drop=True)\n"
   ]
  },
  {
   "cell_type": "markdown",
   "id": "df5230e7",
   "metadata": {},
   "source": [
    "### Extraction of caracteristics"
   ]
  },
  {
   "cell_type": "code",
   "execution_count": 14,
   "id": "0da30da4",
   "metadata": {},
   "outputs": [],
   "source": [
    "def caract(chaine,lis):\n",
    "    mat=np.zeros(len(lis))\n",
    "    for i in range(len(lis)):\n",
    "        if lis[i] in chaine:\n",
    "            mat[i]=1\n",
    "    return mat\n",
    "    "
   ]
  },
  {
   "cell_type": "code",
   "execution_count": 15,
   "id": "7e3358c0",
   "metadata": {},
   "outputs": [],
   "source": [
    "array=[]\n",
    "for i in range(df.shape[0]):\n",
    "    array.append(caract(df.iloc[i,0],voclist))"
   ]
  },
  {
   "cell_type": "code",
   "execution_count": 18,
   "id": "e4609c21",
   "metadata": {},
   "outputs": [],
   "source": [
    "email=np.array(array)\n",
    "state=df['state']"
   ]
  },
  {
   "cell_type": "markdown",
   "id": "a9838a77",
   "metadata": {},
   "source": [
    "### splitting the data"
   ]
  },
  {
   "cell_type": "code",
   "execution_count": 19,
   "id": "e2caacaf",
   "metadata": {},
   "outputs": [],
   "source": [
    "x_train,x_test,y_train,y_test=train_test_split(email,state,test_size=0.3,random_state=123)"
   ]
  },
  {
   "cell_type": "markdown",
   "id": "4f490b22",
   "metadata": {},
   "source": [
    "###  Logistic Regression"
   ]
  },
  {
   "cell_type": "code",
   "execution_count": 20,
   "id": "dd452089",
   "metadata": {},
   "outputs": [
    {
     "name": "stderr",
     "output_type": "stream",
     "text": [
      "C:\\Users\\asmas\\anaconda3\\lib\\site-packages\\sklearn\\linear_model\\_logistic.py:763: ConvergenceWarning: lbfgs failed to converge (status=1):\n",
      "STOP: TOTAL NO. of ITERATIONS REACHED LIMIT.\n",
      "\n",
      "Increase the number of iterations (max_iter) or scale the data as shown in:\n",
      "    https://scikit-learn.org/stable/modules/preprocessing.html\n",
      "Please also refer to the documentation for alternative solver options:\n",
      "    https://scikit-learn.org/stable/modules/linear_model.html#logistic-regression\n",
      "  n_iter_i = _check_optimize_result(\n"
     ]
    },
    {
     "data": {
      "text/plain": [
       "LogisticRegression()"
      ]
     },
     "execution_count": 20,
     "metadata": {},
     "output_type": "execute_result"
    }
   ],
   "source": [
    "lr=LogisticRegression()\n",
    "lr.fit(x_train,y_train)\n"
   ]
  },
  {
   "cell_type": "code",
   "execution_count": 21,
   "id": "a21a7441",
   "metadata": {},
   "outputs": [
    {
     "name": "stdout",
     "output_type": "stream",
     "text": [
      "the score of the training data is : 1.0\n",
      "the score of the testing data is : 0.9825136612021858\n"
     ]
    }
   ],
   "source": [
    "print('the score of the training data is :',lr.score(x_train,y_train))\n",
    "print('the score of the testing data is :',lr.score(x_test,y_test))"
   ]
  },
  {
   "cell_type": "code",
   "execution_count": 22,
   "id": "4aacec7d",
   "metadata": {},
   "outputs": [],
   "source": [
    "y_pred_train=lr.predict(x_train)\n",
    "y_pred_test=lr.predict(x_test)"
   ]
  },
  {
   "cell_type": "code",
   "execution_count": 25,
   "id": "ccf8e694",
   "metadata": {},
   "outputs": [
    {
     "name": "stdout",
     "output_type": "stream",
     "text": [
      "the R squared of the training data is : 1.0\n",
      "the R squared of the testing data is : 0.9296775928985896\n",
      "----------------------------------------------------------------------------------------------------\n",
      "the f1 of the training data is : 1.0\n",
      "the f1 of the testing data is : 0.981042654028436\n"
     ]
    }
   ],
   "source": [
    "print('the R squared of the training data is :',r2_score(y_train,y_pred_train))\n",
    "print('the R squared of the testing data is :',r2_score(y_test,y_pred_test))\n",
    "print('-'*100)\n",
    "print('the f1 of the training data is :',f1_score(y_train,y_pred_train))\n",
    "print('the f1 of the testing data is :',f1_score(y_test,y_pred_test))"
   ]
  },
  {
   "cell_type": "code",
   "execution_count": 26,
   "id": "c07473a1",
   "metadata": {},
   "outputs": [
    {
     "data": {
      "image/png": "[encoded data removed]",
      "text/plain": [
       "<Figure size 432x288 with 2 Axes>"
      ]
     },
     "metadata": {
      "needs_background": "light"
     },
     "output_type": "display_data"
    }
   ],
   "source": [
    "plot_confusion_matrix(lr, x_test, y_test)  \n",
    "plt.show()"
   ]
  },
  {
   "cell_type": "markdown",
   "id": "8be0becc",
   "metadata": {},
   "source": [
    "### SVM"
   ]
  },
  {
   "cell_type": "code",
   "execution_count": 27,
   "id": "69f2eb55",
   "metadata": {},
   "outputs": [
    {
     "data": {
      "text/plain": [
       "SVC()"
      ]
     },
     "execution_count": 27,
     "metadata": {},
     "output_type": "execute_result"
    }
   ],
   "source": [
    "sv=svm.SVC()\n",
    "sv.fit(x_train,y_train)"
   ]
  },
  {
   "cell_type": "code",
   "execution_count": 28,
   "id": "51c4c7ff",
   "metadata": {},
   "outputs": [
    {
     "name": "stdout",
     "output_type": "stream",
     "text": [
      "the score of the training data is : 0.9934364744491326\n",
      "the score of the testing data is : 0.9825136612021858\n"
     ]
    }
   ],
   "source": [
    "print('the score of the training data is :',sv.score(x_train,y_train))\n",
    "print('the score of the testing data is :',sv.score(x_test,y_test))"
   ]
  },
  {
   "cell_type": "code",
   "execution_count": 29,
   "id": "debb9fc3",
   "metadata": {},
   "outputs": [],
   "source": [
    "y_pred_train=sv.predict(x_train)\n",
    "y_pred_test=sv.predict(x_test)"
   ]
  },
  {
   "cell_type": "code",
   "execution_count": 30,
   "id": "48f83a58",
   "metadata": {},
   "outputs": [
    {
     "name": "stdout",
     "output_type": "stream",
     "text": [
      "the R squared of the training data is : 0.9735425452741255\n",
      "the R squared of the testing data is : 0.9296775928985896\n",
      "----------------------------------------------------------------------------------------------------\n",
      "the f1 of the training data is : 0.9928057553956835\n",
      "the f1 of the testing data is : 0.9811764705882354\n"
     ]
    }
   ],
   "source": [
    "print('the R squared of the training data is :',r2_score(y_train,y_pred_train))\n",
    "print('the R squared of the testing data is :',r2_score(y_test,y_pred_test))\n",
    "print('-'*100)\n",
    "print('the f1 of the training data is :',f1_score(y_train,y_pred_train))\n",
    "print('the f1 of the testing data is :',f1_score(y_test,y_pred_test))"
   ]
  },
  {
   "cell_type": "code",
   "execution_count": 31,
   "id": "50f706c8",
   "metadata": {},
   "outputs": [
    {
     "data": {
      "image/png": "[encoded data removed]",
      "text/plain": [
       "<Figure size 432x288 with 2 Axes>"
      ]
     },
     "metadata": {
      "needs_background": "light"
     },
     "output_type": "display_data"
    }
   ],
   "source": [
    "plot_confusion_matrix(sv, x_test, y_test)  \n",
    "plt.show()"
   ]
  },
  {
   "cell_type": "markdown",
   "id": "2a82a2c1",
   "metadata": {},
   "source": [
    "### NN"
   ]
  },
  {
   "cell_type": "code",
   "execution_count": 32,
   "id": "ec94c0c0",
   "metadata": {},
   "outputs": [
    {
     "data": {
      "text/plain": [
       "MLPClassifier()"
      ]
     },
     "execution_count": 32,
     "metadata": {},
     "output_type": "execute_result"
    }
   ],
   "source": [
    "nn= MLPClassifier()\n",
    "nn.fit(x_train,y_train)"
   ]
  },
  {
   "cell_type": "code",
   "execution_count": 36,
   "id": "a6c2a5d6",
   "metadata": {},
   "outputs": [
    {
     "name": "stdout",
     "output_type": "stream",
     "text": [
      "the R squared of the training data is : 1.0\n",
      "the R squared of the testing data is : 0.9901639344262295\n"
     ]
    }
   ],
   "source": [
    "print('the score of the training data is :',nn.score(x_train,y_train))\n",
    "print('the score of the testing data is :',nn.score(x_test,y_test))"
   ]
  },
  {
   "cell_type": "code",
   "execution_count": 34,
   "id": "58010bd4",
   "metadata": {},
   "outputs": [],
   "source": [
    "y_pred_train=nn.predict(x_train)\n",
    "y_pred_test=nn.predict(x_test)"
   ]
  },
  {
   "cell_type": "code",
   "execution_count": null,
   "id": "1962deea",
   "metadata": {},
   "outputs": [],
   "source": [
    "print('the R squared of the training data is :',r2_score(y_train,y_pred_train))\n",
    "print('the R squared of the testing data is :',r2_score(y_test,y_pred_test))\n",
    "print('-'*100)\n",
    "print('the f1 of the training data is :',f1_score(y_train,y_pred_train))\n",
    "print('the f1 of the testing data is :',f1_score(y_test,y_pred_test))"
   ]
  },
  {
   "cell_type": "code",
   "execution_count": 41,
   "id": "5e2811ba",
   "metadata": {},
   "outputs": [
    {
     "data": {
      "image/png": "[encoded data removed]",
      "text/plain": [
       "<Figure size 432x288 with 2 Axes>"
      ]
     },
     "metadata": {
      "needs_background": "light"
     },
     "output_type": "display_data"
    }
   ],
   "source": [
    "plot_confusion_matrix(nn, x_test, y_test)   \n",
    "plt.show()\n"
   ]
  },
  {
   "cell_type": "code",
   "execution_count": null,
   "id": "024d48f5",
   "metadata": {},
   "outputs": [],
   "source": []
  }
 ],
 "metadata": {
  "kernelspec": {
   "display_name": "Python 3 (ipykernel)",
   "language": "python",
   "name": "python3"
  },
  "language_info": {
   "codemirror_mode": {
    "name": "ipython",
    "version": 3
   },
   "file_extension": ".py",
   "mimetype": "text/x-python",
   "name": "python",
   "nbconvert_exporter": "python",
   "pygments_lexer": "ipython3",
   "version": "3.9.7"
  }
 },
 "nbformat": 4,
 "nbformat_minor": 5
}
